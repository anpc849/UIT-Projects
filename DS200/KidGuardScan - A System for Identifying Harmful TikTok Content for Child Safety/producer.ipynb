{
 "cells": [
  {
   "cell_type": "markdown",
   "metadata": {},
   "source": [
    "### Import"
   ]
  },
  {
   "cell_type": "code",
   "execution_count": 1,
   "metadata": {},
   "outputs": [],
   "source": [
    "from selenium import webdriver\n",
    "from selenium.webdriver.common.action_chains import ActionChains\n",
    "from webdriver_manager.microsoft import EdgeChromiumDriverManager\n",
    "from selenium.webdriver.chrome.options import Options\n",
    "from selenium.webdriver.support.ui import WebDriverWait\n",
    "from selenium.webdriver.support import expected_conditions as EC\n",
    "import sys\n",
    "import os\n",
    "os.environ[\"COLAB_GPU\"] = \"AAA\"\n",
    "import google_colab_selenium as gs\n",
    "# from concurrent.futures import ThreadPoolExecutor\n",
    "# import threading\n",
    "from selenium.webdriver.common.by import By\n",
    "import time"
   ]
  },
  {
   "cell_type": "markdown",
   "metadata": {},
   "source": [
    "### Driver selenium"
   ]
  },
  {
   "cell_type": "code",
   "execution_count": 2,
   "metadata": {},
   "outputs": [],
   "source": [
    "def create_webdriver(url):\n",
    "    opt = Options()\n",
    "    #opt.add_argument(\"--verbose\")\n",
    "    #opt.add_argument('--no-sandbox')\n",
    "    #opt.add_argument('--headless')\n",
    "    # opt.add_argument('--disable-gpu')\n",
    "    # opt.add_argument(\"--window-size=1920, 1200\")\n",
    "    opt.add_argument('--disable-dev-shm-usage')\n",
    "    opt.add_argument(\"--lang=vi-VN\")\n",
    "    opt.add_argument(f\"--window-size=1366,768\")\n",
    "    opt.add_argument(f'--user-agent=Mozilla/5.0 (Windows NT 10.0; Win64; x64) AppleWebKit/537.36 (KHTML, like Gecko) Chrome/88.0.4324.182 Safari/537.36')\n",
    "    opt.add_argument('--disable-blink-features=AutomationControlled')\n",
    "    opt.add_argument(\"--disable-extensions\")\n",
    "    #opt.add_argument(\"--proxy-server='direct://'\")\n",
    "    opt.add_argument(\"--proxy-bypass-list=*\")\n",
    "    opt.add_argument('--ignore-certificate-errors')\n",
    "    opt.add_argument(\"--password-store=basic\")\n",
    "    opt.add_argument(\"--no-sandbox\")\n",
    "    opt.add_argument(\"--disable-dev-shm-usage\")\n",
    "    opt.add_argument(\"--disable-extensions\")\n",
    "    opt.add_argument(\"--enable-automation\")\n",
    "    opt.add_argument(\"--disable-browser-side-navigation\")\n",
    "    opt.add_argument(\"--disable-web-security\")\n",
    "    opt.add_argument(\"--disable-dev-shm-usage\")\n",
    "    opt.add_argument(\"--disable-infobars\")\n",
    "    opt.add_argument(\"--disable-gpu\")\n",
    "    opt.add_argument(\"--disable-setuid-sandbox\")\n",
    "    opt.add_argument(\"--disable-software-rasterizer\")\n",
    "    #proxy = '171.226.29.241:8080'  # Replace '8080' with the correct port if different\n",
    "    #opt.add_argument(f'--proxy-server=http://{proxy}')\n",
    "    driver = gs.Chrome(options=opt)\n",
    "    time.sleep(5)\n",
    "    driver.get(url)\n",
    "    return driver"
   ]
  },
  {
   "cell_type": "code",
   "execution_count": 3,
   "metadata": {},
   "outputs": [
    {
     "data": {
      "text/html": [
       "\n",
       "            <div class=\"spinner-container\">\n",
       "                <div class=\"spinner\" id=\"ac3df7a7-4939-4eab-9198-dec5840b0774-circle\"></div>\n",
       "                <div class=\"spinner-text\" id=\"ac3df7a7-4939-4eab-9198-dec5840b0774-text\">Updating and upgrading APT</div>\n",
       "            </div>\n",
       "            <style>\n",
       "                @keyframes spin {\n",
       "                    from { transform: rotate(0deg); }\n",
       "                    to { transform: rotate(360deg); }\n",
       "                }\n",
       "\n",
       "                .spinner-container {\n",
       "                    display: flex;\n",
       "                    align-items: center;\n",
       "                    margin-bottom: 3px;\n",
       "                }\n",
       "\n",
       "                .spinner {\n",
       "                    border: 3px solid rgba(0, 0, 0, 0.1);\n",
       "                    border-left-color: lightblue;\n",
       "                    border-radius: 50%;\n",
       "                    width: 12px;\n",
       "                    height: 12px;\n",
       "                    animation: spin 1s linear infinite;\n",
       "                }\n",
       "\n",
       "                .spinner-text {\n",
       "                    padding-left: 6px;\n",
       "                }\n",
       "            </style>\n",
       "        "
      ],
      "text/plain": [
       "<IPython.core.display.HTML object>"
      ]
     },
     "metadata": {},
     "output_type": "display_data"
    },
    {
     "name": "stderr",
     "output_type": "stream",
     "text": [
      "\n",
      "WARNING: apt does not have a stable CLI interface. Use with caution in scripts.\n",
      "\n"
     ]
    },
    {
     "name": "stdout",
     "output_type": "stream",
     "text": [
      "Hit:1 https://cli.github.com/packages stable InRelease\n",
      "Hit:2 http://archive.ubuntu.com/ubuntu focal InRelease\n",
      "Hit:3 https://download.docker.com/linux/ubuntu focal InRelease\n",
      "Hit:4 http://archive.ubuntu.com/ubuntu focal-updates InRelease\n",
      "Hit:5 https://dl.google.com/linux/chrome/deb stable InRelease\n",
      "Hit:6 http://archive.ubuntu.com/ubuntu focal-backports InRelease\n",
      "Hit:7 http://security.ubuntu.com/ubuntu focal-security InRelease\n",
      "Reading package lists...\n",
      "Building dependency tree...\n",
      "Reading state information...\n",
      "1 package can be upgraded. Run 'apt list --upgradable' to see it.\n",
      "Reading package lists..."
     ]
    },
    {
     "name": "stderr",
     "output_type": "stream",
     "text": [
      "\n",
      "WARNING: apt does not have a stable CLI interface. Use with caution in scripts.\n",
      "\n"
     ]
    },
    {
     "name": "stdout",
     "output_type": "stream",
     "text": [
      "\n",
      "Building dependency tree...\n",
      "Reading state information...\n",
      "Calculating upgrade...\n",
      "The following packages will be upgraded:\n",
      "  tzdata\n",
      "1 upgraded, 0 newly installed, 0 to remove and 0 not upgraded.\n",
      "Need to get 301 kB of archives.\n",
      "After this operation, 1024 B disk space will be freed.\n",
      "Get:1 http://archive.ubuntu.com/ubuntu focal-updates/main amd64 tzdata all 2024a-0ubuntu0.20.04.1 [301 kB]\n"
     ]
    },
    {
     "name": "stderr",
     "output_type": "stream",
     "text": [
      "debconf: delaying package configuration, since apt-utils is not installed\n"
     ]
    },
    {
     "name": "stdout",
     "output_type": "stream",
     "text": [
      "Fetched 301 kB in 1s (478 kB/s)\n",
      "(Reading database ... 66656 files and directories currently installed.)\n",
      "Preparing to unpack .../tzdata_2024a-0ubuntu0.20.04.1_all.deb ...\n",
      "Unpacking tzdata (2024a-0ubuntu0.20.04.1) over (2024a-0ubuntu0.20.04) ...\n",
      "Setting up tzdata (2024a-0ubuntu0.20.04.1) ...\n",
      "debconf: unable to initialize frontend: Dialog\n",
      "debconf: (No usable dialog-like program is installed, so the dialog based frontend cannot be used. at /usr/share/perl5/Debconf/FrontEnd/Dialog.pm line 76.)\n",
      "debconf: falling back to frontend: Readline\n",
      "\n",
      "Current default time zone: 'Etc/UTC'\n",
      "Local time is now:      Fri Jul  5 05:21:09 UTC 2024.\n",
      "Universal Time is now:  Fri Jul  5 05:21:09 UTC 2024.\n",
      "Run 'dpkg-reconfigure tzdata' if you wish to change it.\n",
      "\n"
     ]
    },
    {
     "data": {
      "application/javascript": "\n            const element = document.getElementById(\"ac3df7a7-4939-4eab-9198-dec5840b0774-circle\");\n            element.style.border = \"3px solid limegreen\";\n            element.style.animation = \"none\";\n\n            const text = document.getElementById(\"ac3df7a7-4939-4eab-9198-dec5840b0774-text\");\n            text.innerText = \"Updated and upgraded APT\";\n        ",
      "text/plain": [
       "<IPython.core.display.Javascript object>"
      ]
     },
     "metadata": {},
     "output_type": "display_data"
    },
    {
     "data": {
      "text/html": [
       "\n",
       "            <div class=\"spinner-container\">\n",
       "                <div class=\"spinner\" id=\"2b3fd02b-1c8c-409c-af16-146196fbf6e2-circle\"></div>\n",
       "                <div class=\"spinner-text\" id=\"2b3fd02b-1c8c-409c-af16-146196fbf6e2-text\">Downloading Google Chrome</div>\n",
       "            </div>\n",
       "            <style>\n",
       "                @keyframes spin {\n",
       "                    from { transform: rotate(0deg); }\n",
       "                    to { transform: rotate(360deg); }\n",
       "                }\n",
       "\n",
       "                .spinner-container {\n",
       "                    display: flex;\n",
       "                    align-items: center;\n",
       "                    margin-bottom: 3px;\n",
       "                }\n",
       "\n",
       "                .spinner {\n",
       "                    border: 3px solid rgba(0, 0, 0, 0.1);\n",
       "                    border-left-color: lightblue;\n",
       "                    border-radius: 50%;\n",
       "                    width: 12px;\n",
       "                    height: 12px;\n",
       "                    animation: spin 1s linear infinite;\n",
       "                }\n",
       "\n",
       "                .spinner-text {\n",
       "                    padding-left: 6px;\n",
       "                }\n",
       "            </style>\n",
       "        "
      ],
      "text/plain": [
       "<IPython.core.display.HTML object>"
      ]
     },
     "metadata": {},
     "output_type": "display_data"
    },
    {
     "name": "stderr",
     "output_type": "stream",
     "text": [
      "  % Total    % Received % Xferd  Average Speed   Time    Time     Time  Current\n",
      "                                 Dload  Upload   Total   Spent    Left  Speed\n",
      "100  103M  100  103M    0     0  95.3M      0  0:00:01  0:00:01 --:--:-- 95.3M\n",
      "\n",
      "WARNING: apt does not have a stable CLI interface. Use with caution in scripts.\n",
      "\n"
     ]
    },
    {
     "name": "stdout",
     "output_type": "stream",
     "text": [
      "Reading package lists...\n",
      "Building dependency tree...\n",
      "Reading state information...\n",
      "google-chrome-stable is already the newest version (126.0.6478.126-1).\n",
      "0 upgraded, 0 newly installed, 0 to remove and 0 not upgraded.\n"
     ]
    },
    {
     "data": {
      "application/javascript": "\n            const element = document.getElementById(\"2b3fd02b-1c8c-409c-af16-146196fbf6e2-circle\");\n            element.style.border = \"3px solid limegreen\";\n            element.style.animation = \"none\";\n\n            const text = document.getElementById(\"2b3fd02b-1c8c-409c-af16-146196fbf6e2-text\");\n            text.innerText = \"Downloaded Google Chrome\";\n        ",
      "text/plain": [
       "<IPython.core.display.Javascript object>"
      ]
     },
     "metadata": {},
     "output_type": "display_data"
    },
    {
     "data": {
      "text/html": [
       "\n",
       "            <div class=\"spinner-container\">\n",
       "                <div class=\"spinner\" id=\"652692ea-7228-40b5-b760-f3afa30680c7-circle\"></div>\n",
       "                <div class=\"spinner-text\" id=\"652692ea-7228-40b5-b760-f3afa30680c7-text\">Initializing Chromedriver</div>\n",
       "            </div>\n",
       "            <style>\n",
       "                @keyframes spin {\n",
       "                    from { transform: rotate(0deg); }\n",
       "                    to { transform: rotate(360deg); }\n",
       "                }\n",
       "\n",
       "                .spinner-container {\n",
       "                    display: flex;\n",
       "                    align-items: center;\n",
       "                    margin-bottom: 3px;\n",
       "                }\n",
       "\n",
       "                .spinner {\n",
       "                    border: 3px solid rgba(0, 0, 0, 0.1);\n",
       "                    border-left-color: lightblue;\n",
       "                    border-radius: 50%;\n",
       "                    width: 12px;\n",
       "                    height: 12px;\n",
       "                    animation: spin 1s linear infinite;\n",
       "                }\n",
       "\n",
       "                .spinner-text {\n",
       "                    padding-left: 6px;\n",
       "                }\n",
       "            </style>\n",
       "        "
      ],
      "text/plain": [
       "<IPython.core.display.HTML object>"
      ]
     },
     "metadata": {},
     "output_type": "display_data"
    },
    {
     "data": {
      "application/javascript": "\n            const element = document.getElementById(\"652692ea-7228-40b5-b760-f3afa30680c7-circle\");\n            element.style.border = \"3px solid limegreen\";\n            element.style.animation = \"none\";\n\n            const text = document.getElementById(\"652692ea-7228-40b5-b760-f3afa30680c7-text\");\n            text.innerText = \"Initialized Chromedriver\";\n        ",
      "text/plain": [
       "<IPython.core.display.Javascript object>"
      ]
     },
     "metadata": {},
     "output_type": "display_data"
    }
   ],
   "source": [
    "driver = create_webdriver(\"https://ads.tiktok.com/business/creativecenter/inspiration/popular/hashtag/pc/vi\")"
   ]
  },
  {
   "cell_type": "code",
   "execution_count": 4,
   "metadata": {},
   "outputs": [
    {
     "name": "stdout",
     "output_type": "stream",
     "text": [
      "1 # aifilter 36K 76M\n",
      "2 # albumcover 35K 43M\n",
      "3 # capadealbum 33K 31M\n"
     ]
    }
   ],
   "source": [
    "# time.sleep(5)\n",
    "# cards = driver.find_elements(By.CSS_SELECTOR, \"a.CardPc_container___oNb0\")\n",
    "wait = WebDriverWait(driver, 20)\n",
    "cards = wait.until(EC.presence_of_all_elements_located((By.CSS_SELECTOR, \"a.CardPc_container___oNb0\")))\n",
    "for card in cards:\n",
    "    rank = card.find_element(By.CSS_SELECTOR, \"span.RankingStatus_rankingIndex__ZMDrH\").text.strip()\n",
    "    hashtag = card.find_element(By.CSS_SELECTOR, \"span.CardPc_titleText__RYOWo\").text.strip()\n",
    "    \n",
    "    posts_views = card.find_elements(By.CSS_SELECTOR, \"span.CardPc_itemValue__XGDmG\")\n",
    "    posts = posts_views[0].text.strip()\n",
    "    views = posts_views[1].text.strip()\n",
    "    \n",
    "    print(rank, hashtag, posts, views)\n",
    "    #print(rank, hashtag)"
   ]
  },
  {
   "cell_type": "code",
   "execution_count": null,
   "metadata": {},
   "outputs": [],
   "source": [
    "wait = WebDriverWait(driver, 10)\n",
    "view_more_button = wait.until(EC.visibility_of_element_located((By.CSS_SELECTOR, \"div.ViewMoreBtn_viewMoreBtn__fOkv2[data-testid='cc_contentArea_viewmore_btn']\")))\n",
    "actions = ActionChains(driver)\n",
    "actions.move_to_element(view_more_button).perform()\n",
    "view_more_button.click()"
   ]
  },
  {
   "cell_type": "code",
   "execution_count": null,
   "metadata": {},
   "outputs": [],
   "source": [
    "hashtag_cleaned = hashtag.replace(\"#\", \"\").strip()\n",
    "hashtag_cleaned"
   ]
  },
  {
   "cell_type": "markdown",
   "metadata": {},
   "source": [
    "### Create producer send meta-videos (by hashtags) to Kafka"
   ]
  },
  {
   "cell_type": "code",
   "execution_count": 4,
   "metadata": {},
   "outputs": [],
   "source": [
    "from kafka_producer import send_video_to_kafka, create_producer\n",
    "import subprocess\n",
    "\n",
    "def run_test_kafka(hashtag, topic_name):\n",
    "    try:\n",
    "        process = subprocess.Popen([\"python\", \"/teamspace/studios/this_studio/KidGuardScan/run_kafka_producer.py\", hashtag, topic_name], stdout=subprocess.PIPE, stderr=subprocess.PIPE, text=True)\n",
    "        stdout, stderr = process.communicate()\n",
    "        print(stdout)\n",
    "        if process.returncode != 0:\n",
    "            print(\"Error occurred:\", stderr)\n",
    "    except Exception as e:\n",
    "        print(\"An error occurred:\", str(e))\n",
    "    finally:\n",
    "        process.terminate()"
   ]
  },
  {
   "cell_type": "code",
   "execution_count": 5,
   "metadata": {},
   "outputs": [
    {
     "name": "stdout",
     "output_type": "stream",
     "text": [
      "\n"
     ]
    }
   ],
   "source": [
    "run_test_kafka(\"khoahocdulieu\", \"Test_with_MongoDB11\")"
   ]
  }
 ],
 "metadata": {
  "kernelspec": {
   "display_name": "DE",
   "language": "python",
   "name": "python3"
  },
  "language_info": {
   "codemirror_mode": {
    "name": "ipython",
    "version": 3
   },
   "file_extension": ".py",
   "mimetype": "text/x-python",
   "name": "python",
   "nbconvert_exporter": "python",
   "pygments_lexer": "ipython3",
   "version": "3.10.10"
  }
 },
 "nbformat": 4,
 "nbformat_minor": 2
}
