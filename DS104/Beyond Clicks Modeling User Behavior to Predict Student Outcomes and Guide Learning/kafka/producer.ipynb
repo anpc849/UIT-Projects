{
 "cells": [
  {
   "cell_type": "code",
   "execution_count": 1,
   "metadata": {},
   "outputs": [],
   "source": [
    "import pandas as pd\n",
    "import numpy as np\n",
    "from kafka import KafkaProducer\n",
    "from kafka import KafkaConsumer\n",
    "import json\n",
    "import time\n",
    "import logging\n",
    "import pickle\n",
    "from pyspark.sql.functions import *\n",
    "import csv"
   ]
  },
  {
   "cell_type": "code",
   "execution_count": 2,
   "metadata": {},
   "outputs": [],
   "source": [
    "topic_name = \"clickstream_data\"\n",
    "kafka_broker = \"localhost:9092\""
   ]
  },
  {
   "cell_type": "code",
   "execution_count": 3,
   "metadata": {},
   "outputs": [],
   "source": [
    "def create_producer():\n",
    "    try:\n",
    "        producer = KafkaProducer(\n",
    "            bootstrap_servers=kafka_broker, \n",
    "            value_serializer=lambda x:json.dumps(x).encode('utf-8'),\n",
    "            key_serializer=lambda x:json.dumps(x).encode('utf-8'),\n",
    "        )\n",
    "    except Exception as e:\n",
    "        logging.exception(\"Couldn't create the producer\")\n",
    "        producer = None\n",
    "    \n",
    "    return producer\n",
    "\n",
    "def create_consumer(topic_name):\n",
    "    try:\n",
    "        consumer = KafkaConsumer(\n",
    "        topic_name,\n",
    "        bootstrap_servers=kafka_broker,\n",
    "        auto_offset_reset=\"earliest\",\n",
    "        enable_auto_commit=True,\n",
    "        value_deserializer=lambda x: json.loads(x.decode(\"utf-8\")))\n",
    "    except Exception as e:\n",
    "        logging.exception(\"Couldn't create the consumer\")\n",
    "        consumer = None\n",
    "    return consumer"
   ]
  },
  {
   "cell_type": "code",
   "execution_count": 4,
   "metadata": {},
   "outputs": [
    {
     "data": {
      "text/plain": [
       "411"
      ]
     },
     "execution_count": 4,
     "metadata": {},
     "output_type": "execute_result"
    }
   ],
   "source": [
    "with open(\"../streamlit/unique_std.pkl\", 'rb') as f:\n",
    "  unique_std = pickle.load(f)\n",
    "len(unique_std)"
   ]
  },
  {
   "cell_type": "code",
   "execution_count": 5,
   "metadata": {},
   "outputs": [],
   "source": [
    "send_data = pd.read_csv(\"../public data/data_a_hidden_10.csv\")\n",
    "send_data['EventTime'] = pd.to_datetime(send_data['EventTime'])\n",
    "selected_student_ids = send_data.STUDENTID.unique()[:3]\n",
    "#selected_student_ids = np.random.choice(send_data['STUDENTID'].unique(), 3, replace=False)\n",
    "random_std = pd.DataFrame()\n",
    "for student_id in selected_student_ids:\n",
    "    student_data = send_data[send_data.STUDENTID == student_id].head(10)\n",
    "    random_std = pd.concat([random_std, student_data])\n",
    "\n",
    "random_std['value_sort'] = random_std['EventTime'].dt.strftime(\"%H:%M:%S.%f\")\n",
    "random_std = random_std.sample(frac=1).reset_index(drop=True)\n",
    "random_std = random_std.sort_values(by='value_sort', ascending=True).reset_index(drop=True)\n",
    "random_std.drop(columns='value_sort', inplace=True)\n",
    "random_std['EventTime'] = random_std['EventTime'].astype(str) ## lưu ý check kỹ trước khi send to producer"
   ]
  },
  {
   "cell_type": "code",
   "execution_count": 7,
   "metadata": {},
   "outputs": [
    {
     "name": "stdout",
     "output_type": "stream",
     "text": [
      "{\"STUDENTID\":2333001731,\"Block\":\"A\",\"AccessionNumber\":\"VH356862\",\"ItemType\":\"Directions\",\"Observable\":\"Enter Item\",\"ExtendedInfo\":null,\"EventTime\":\"2017-02-08 14:13:25.390\"}\n",
      "{\"STUDENTID\":2333001731,\"Block\":\"A\",\"AccessionNumber\":\"VH356862\",\"ItemType\":\"Directions\",\"Observable\":\"Next\",\"ExtendedInfo\":null,\"EventTime\":\"2017-02-08 14:13:34.937\"}\n",
      "{\"STUDENTID\":2333001731,\"Block\":\"A\",\"AccessionNumber\":\"VH356862\",\"ItemType\":\"Directions\",\"Observable\":\"Exit Item\",\"ExtendedInfo\":null,\"EventTime\":\"2017-02-08 14:13:34.947\"}\n",
      "{\"STUDENTID\":2333001731,\"Block\":\"A\",\"AccessionNumber\":\"VH098810\",\"ItemType\":\"MCSS\",\"Observable\":\"Enter Item\",\"ExtendedInfo\":null,\"EventTime\":\"2017-02-08 14:13:35.087\"}\n",
      "{\"STUDENTID\":2333001731,\"Block\":\"A\",\"AccessionNumber\":\"VH098810\",\"ItemType\":\"MCSS\",\"Observable\":\"Click Choice\",\"ExtendedInfo\":\"VH098810_4:checked\",\"EventTime\":\"2017-02-08 14:13:44.400\"}\n",
      "{\"STUDENTID\":2333001731,\"Block\":\"A\",\"AccessionNumber\":\"VH098519\",\"ItemType\":\"MCSS\",\"Observable\":\"Click Progress Navigator\",\"ExtendedInfo\":\"2\",\"EventTime\":\"2017-02-08 14:13:54.730\"}\n",
      "{\"STUDENTID\":2333001731,\"Block\":\"A\",\"AccessionNumber\":\"VH098810\",\"ItemType\":\"MCSS\",\"Observable\":\"Exit Item\",\"ExtendedInfo\":null,\"EventTime\":\"2017-02-08 14:13:54.747\"}\n",
      "{\"STUDENTID\":2333001731,\"Block\":\"A\",\"AccessionNumber\":\"VH098519\",\"ItemType\":\"MCSS\",\"Observable\":\"Enter Item\",\"ExtendedInfo\":null,\"EventTime\":\"2017-02-08 14:13:54.923\"}\n",
      "{\"STUDENTID\":2333001731,\"Block\":\"A\",\"AccessionNumber\":\"VH098519\",\"ItemType\":\"MCSS\",\"Observable\":\"Click Choice\",\"ExtendedInfo\":\"VH098519_4:checked\",\"EventTime\":\"2017-02-08 14:14:16.090\"}\n",
      "{\"STUDENTID\":2333001731,\"Block\":\"A\",\"AccessionNumber\":\"VH098808\",\"ItemType\":\"MCSS\",\"Observable\":\"Click Progress Navigator\",\"ExtendedInfo\":\"3\",\"EventTime\":\"2017-02-08 14:14:18.457\"}\n",
      "{\"STUDENTID\":2333000637,\"Block\":\"A\",\"AccessionNumber\":\"VH356862\",\"ItemType\":\"Directions\",\"Observable\":\"Enter Item\",\"ExtendedInfo\":null,\"EventTime\":\"2017-02-02 16:27:32.820\"}\n",
      "{\"STUDENTID\":2333001048,\"Block\":\"A\",\"AccessionNumber\":\"VH356862\",\"ItemType\":\"Directions\",\"Observable\":\"Enter Item\",\"ExtendedInfo\":null,\"EventTime\":\"2017-03-08 16:27:34.967\"}\n",
      "{\"STUDENTID\":2333000637,\"Block\":\"A\",\"AccessionNumber\":\"VH356862\",\"ItemType\":\"Directions\",\"Observable\":\"Next\",\"ExtendedInfo\":null,\"EventTime\":\"2017-02-02 16:27:46.020\"}\n",
      "{\"STUDENTID\":2333000637,\"Block\":\"A\",\"AccessionNumber\":\"VH356862\",\"ItemType\":\"Directions\",\"Observable\":\"Exit Item\",\"ExtendedInfo\":null,\"EventTime\":\"2017-02-02 16:27:46.040\"}\n",
      "{\"STUDENTID\":2333000637,\"Block\":\"A\",\"AccessionNumber\":\"VH098810\",\"ItemType\":\"MCSS\",\"Observable\":\"Enter Item\",\"ExtendedInfo\":null,\"EventTime\":\"2017-02-02 16:27:46.193\"}\n",
      "{\"STUDENTID\":2333001048,\"Block\":\"A\",\"AccessionNumber\":\"VH356862\",\"ItemType\":\"Directions\",\"Observable\":\"Next\",\"ExtendedInfo\":null,\"EventTime\":\"2017-03-08 16:27:49.940\"}\n",
      "{\"STUDENTID\":2333001048,\"Block\":\"A\",\"AccessionNumber\":\"VH356862\",\"ItemType\":\"Directions\",\"Observable\":\"Exit Item\",\"ExtendedInfo\":null,\"EventTime\":\"2017-03-08 16:27:49.960\"}\n",
      "{\"STUDENTID\":2333001048,\"Block\":\"A\",\"AccessionNumber\":\"VH098810\",\"ItemType\":\"MCSS\",\"Observable\":\"Enter Item\",\"ExtendedInfo\":null,\"EventTime\":\"2017-03-08 16:27:50.110\"}\n",
      "{\"STUDENTID\":2333000637,\"Block\":\"A\",\"AccessionNumber\":\"VH098810\",\"ItemType\":\"MCSS\",\"Observable\":\"Click Choice\",\"ExtendedInfo\":\"VH098810_5:checked\",\"EventTime\":\"2017-02-02 16:27:58.977\"}\n",
      "{\"STUDENTID\":2333000637,\"Block\":\"A\",\"AccessionNumber\":\"VH098810\",\"ItemType\":\"MCSS\",\"Observable\":\"Clear Answer\",\"ExtendedInfo\":null,\"EventTime\":\"2017-02-02 16:27:59.647\"}\n",
      "{\"STUDENTID\":2333000637,\"Block\":\"A\",\"AccessionNumber\":\"VH098810\",\"ItemType\":\"MCSS\",\"Observable\":\"Click Choice\",\"ExtendedInfo\":\"VH098810_5:checked\",\"EventTime\":\"2017-02-02 16:28:02.137\"}\n",
      "{\"STUDENTID\":2333000637,\"Block\":\"A\",\"AccessionNumber\":\"VH098810\",\"ItemType\":\"MCSS\",\"Observable\":\"Next\",\"ExtendedInfo\":null,\"EventTime\":\"2017-02-02 16:28:03.797\"}\n",
      "{\"STUDENTID\":2333000637,\"Block\":\"A\",\"AccessionNumber\":\"VH098810\",\"ItemType\":\"MCSS\",\"Observable\":\"Exit Item\",\"ExtendedInfo\":null,\"EventTime\":\"2017-02-02 16:28:03.813\"}\n",
      "{\"STUDENTID\":2333000637,\"Block\":\"A\",\"AccessionNumber\":\"VH098519\",\"ItemType\":\"MCSS\",\"Observable\":\"Enter Item\",\"ExtendedInfo\":null,\"EventTime\":\"2017-02-02 16:28:04.033\"}\n",
      "{\"STUDENTID\":2333001048,\"Block\":\"A\",\"AccessionNumber\":\"VH098810\",\"ItemType\":\"MCSS\",\"Observable\":\"Eliminate Choice\",\"ExtendedInfo\":\"VH098810_2:eliminated\",\"EventTime\":\"2017-03-08 16:28:11.527\"}\n",
      "{\"STUDENTID\":2333001048,\"Block\":\"A\",\"AccessionNumber\":\"VH098810\",\"ItemType\":\"MCSS\",\"Observable\":\"Eliminate Choice\",\"ExtendedInfo\":\"VH098810_3:eliminated\",\"EventTime\":\"2017-03-08 16:28:13.657\"}\n",
      "{\"STUDENTID\":2333001048,\"Block\":\"A\",\"AccessionNumber\":\"VH098810\",\"ItemType\":\"MCSS\",\"Observable\":\"Eliminate Choice\",\"ExtendedInfo\":\"VH098810_4:eliminated\",\"EventTime\":\"2017-03-08 16:28:18.657\"}\n",
      "{\"STUDENTID\":2333001048,\"Block\":\"A\",\"AccessionNumber\":\"VH098810\",\"ItemType\":\"MCSS\",\"Observable\":\"Eliminate Choice\",\"ExtendedInfo\":\"VH098810_4:uneliminated\",\"EventTime\":\"2017-03-08 16:28:22.587\"}\n",
      "{\"STUDENTID\":2333001048,\"Block\":\"A\",\"AccessionNumber\":\"VH098810\",\"ItemType\":\"MCSS\",\"Observable\":\"Click Choice\",\"ExtendedInfo\":\"VH098810_5:checked\",\"EventTime\":\"2017-03-08 16:28:26.047\"}\n",
      "{\"STUDENTID\":2333001048,\"Block\":\"A\",\"AccessionNumber\":\"VH098810\",\"ItemType\":\"MCSS\",\"Observable\":\"Next\",\"ExtendedInfo\":null,\"EventTime\":\"2017-03-08 16:28:33.283\"}\n"
     ]
    }
   ],
   "source": [
    "producer = create_producer()\n",
    "for _,event in random_std.iterrows():\n",
    "    data = event.to_json()\n",
    "    print(data)\n",
    "    producer.send(topic_name, value=data)\n",
    "    time.sleep(2)\n",
    "    producer.flush()\n",
    "producer.close()"
   ]
  },
  {
   "cell_type": "code",
   "execution_count": null,
   "metadata": {},
   "outputs": [],
   "source": [
    "# producer = create_producer()\n",
    "# with open(\"./public data/data_a_hidden_10.csv\", 'r') as f:\n",
    "#     csv_reader = csv.reader(f)\n",
    "#     header = next(csv_reader, None)\n",
    "#     for row in csv_reader:\n",
    "#         message = ','.join(row)\n",
    "#         print(message)\n",
    "#         producer.send(topic_name, value=message)\n",
    "#         time.sleep(2)\n",
    "#         producer.flush()"
   ]
  }
 ],
 "metadata": {
  "kernelspec": {
   "display_name": "Python 3 (ipykernel)",
   "language": "python",
   "name": "python3"
  },
  "language_info": {
   "codemirror_mode": {
    "name": "ipython",
    "version": 3
   },
   "file_extension": ".py",
   "mimetype": "text/x-python",
   "name": "python",
   "nbconvert_exporter": "python",
   "pygments_lexer": "ipython3",
   "version": "3.10.12"
  }
 },
 "nbformat": 4,
 "nbformat_minor": 4
}
