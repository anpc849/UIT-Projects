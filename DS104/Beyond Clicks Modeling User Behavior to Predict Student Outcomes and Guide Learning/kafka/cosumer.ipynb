{
 "cells": [
  {
   "cell_type": "code",
   "execution_count": 1,
   "id": "d0738339",
   "metadata": {},
   "outputs": [],
   "source": [
    "import pandas as pd\n",
    "import numpy as np\n",
    "from kafka import KafkaProducer\n",
    "from kafka import KafkaConsumer\n",
    "import json\n",
    "import time\n",
    "import logging\n",
    "import pickle\n",
    "from pyspark.sql.functions import *\n",
    "import csv"
   ]
  },
  {
   "cell_type": "code",
   "execution_count": 2,
   "id": "b14ebc6f",
   "metadata": {},
   "outputs": [],
   "source": [
    "topic_name = \"clickstream_data\"\n",
    "kafka_broker = \"localhost:9092\""
   ]
  },
  {
   "cell_type": "code",
   "execution_count": 37,
   "id": "af64efa1",
   "metadata": {},
   "outputs": [],
   "source": [
    "def create_producer():\n",
    "    try:\n",
    "        producer = KafkaProducer(\n",
    "            bootstrap_servers=kafka_broker, \n",
    "            value_serializer=lambda x:json.dumps(x).encode('utf-8'),\n",
    "            key_serializer=lambda x:json.dumps(x).encode('utf-8'),\n",
    "        )\n",
    "    except Exception as e:\n",
    "        logging.exception(\"Couldn't create the producer\")\n",
    "        producer = None\n",
    "    \n",
    "    return producer\n",
    "\n",
    "def create_consumer(topic_name):\n",
    "    try:\n",
    "        consumer = KafkaConsumer(\n",
    "        topic_name,\n",
    "        bootstrap_servers=kafka_broker,\n",
    "        auto_offset_reset=\"earliest\",\n",
    "        enable_auto_commit=True,\n",
    "        value_deserializer=lambda x: json.loads(x.decode(\"utf-8\")))\n",
    "    except Exception as e:\n",
    "        logging.exception(\"Couldn't create the consumer\")\n",
    "        consumer = None\n",
    "    return consumer"
   ]
  },
  {
   "cell_type": "code",
   "execution_count": 38,
   "id": "f387c78a",
   "metadata": {},
   "outputs": [],
   "source": [
    "producer = create_producer()"
   ]
  },
  {
   "cell_type": "code",
   "execution_count": 39,
   "id": "c733f136",
   "metadata": {},
   "outputs": [
    {
     "name": "stdout",
     "output_type": "stream",
     "text": [
      "2333000637,A,VH356862,Directions,Enter Item,,2017-02-02 16:27:32.820\n"
     ]
    }
   ],
   "source": [
    "with open(\"./public data/data_a_hidden_10.csv\", 'r') as f:\n",
    "    csv_reader = csv.reader(f)\n",
    "    header = next(csv_reader, None)\n",
    "    for row in csv_reader:\n",
    "        message = ','.join(row)\n",
    "        print(message)\n",
    "        producer.send(topic_name, value=message)\n",
    "        time.sleep(2)\n",
    "        producer.flush()\n",
    "        break"
   ]
  },
  {
   "cell_type": "code",
   "execution_count": 3,
   "id": "923d0977",
   "metadata": {},
   "outputs": [
    {
     "data": {
      "text/html": [
       "\n",
       "            <div>\n",
       "                <p><b>SparkSession - in-memory</b></p>\n",
       "                \n",
       "        <div>\n",
       "            <p><b>SparkContext</b></p>\n",
       "\n",
       "            <p><a href=\"http://LAPTOP-V0A2KV1S:4040\">Spark UI</a></p>\n",
       "\n",
       "            <dl>\n",
       "              <dt>Version</dt>\n",
       "                <dd><code>v3.5.0</code></dd>\n",
       "              <dt>Master</dt>\n",
       "                <dd><code>local</code></dd>\n",
       "              <dt>AppName</dt>\n",
       "                <dd><code>kafka-example</code></dd>\n",
       "            </dl>\n",
       "        </div>\n",
       "        \n",
       "            </div>\n",
       "        "
      ],
      "text/plain": [
       "<pyspark.sql.session.SparkSession at 0x1d6e9b34130>"
      ]
     },
     "execution_count": 3,
     "metadata": {},
     "output_type": "execute_result"
    }
   ],
   "source": [
    "import findspark\n",
    "findspark.init()\n",
    "import pyspark\n",
    "from pyspark.sql import SparkSession\n",
    "\n",
    "scala_version = '2.12'  # your scala version\n",
    "spark_version = '3.5.0' # your spark version\n",
    "packages = [\n",
    "    f'org.apache.spark:spark-sql-kafka-0-10_{scala_version}:{spark_version}',\n",
    "    'org.apache.kafka:kafka-clients:3.6.0' #your kafka version\n",
    "]\n",
    "spark = SparkSession.builder.master(\"local\").appName(\"kafka-example\").config(\"spark.jars.packages\", \",\".join(packages)).getOrCreate()\n",
    "spark"
   ]
  },
  {
   "cell_type": "code",
   "execution_count": 4,
   "id": "9d5e005f",
   "metadata": {},
   "outputs": [],
   "source": [
    "data_df = spark \\\n",
    "        .readStream \\\n",
    "        .format(\"kafka\") \\\n",
    "        .option(\"kafka.bootstrap.servers\", kafka_broker) \\\n",
    "        .option(\"subscribe\", topic_name) \\\n",
    "        .option(\"startingOffsets\", \"earliest\") \\\n",
    "        .load() \n",
    "data_df_csv = data_df.selectExpr(\"CAST(value as STRING)\").withColumn(\"value\", expr(\"substring(value, 2, length(value)-2)\"))"
   ]
  },
  {
   "cell_type": "code",
   "execution_count": 5,
   "id": "e385d19c",
   "metadata": {},
   "outputs": [],
   "source": [
    "data_schema_string = 'STUDENTID STRING, Block STRING, AccessionNumber STRING, ItemType STRING, Observable STRING, ExtendedInfo STRING, EventTime TIMESTAMP'\n",
    "\n",
    "data_df_csv = data_df_csv \\\n",
    "        .select(from_csv(col(\"value\"), data_schema_string) \\\n",
    "                .alias(\"data\"))\n",
    "\n",
    "\n",
    "data_df_csv = data_df_csv.select(\"data.*\")"
   ]
  },
  {
   "cell_type": "code",
   "execution_count": 6,
   "id": "bb3c139e",
   "metadata": {},
   "outputs": [
    {
     "name": "stdout",
     "output_type": "stream",
     "text": [
      "root\n",
      " |-- STUDENTID: string (nullable = true)\n",
      " |-- Block: string (nullable = true)\n",
      " |-- AccessionNumber: string (nullable = true)\n",
      " |-- ItemType: string (nullable = true)\n",
      " |-- Observable: string (nullable = true)\n",
      " |-- ExtendedInfo: string (nullable = true)\n",
      " |-- EventTime: timestamp (nullable = true)\n",
      "\n"
     ]
    }
   ],
   "source": [
    "data_df_csv.printSchema()"
   ]
  },
  {
   "cell_type": "code",
   "execution_count": 12,
   "id": "3de34ab1",
   "metadata": {},
   "outputs": [],
   "source": [
    "query1.stop()"
   ]
  },
  {
   "cell_type": "code",
   "execution_count": 7,
   "id": "ebd7b732",
   "metadata": {},
   "outputs": [
    {
     "data": {
      "text/html": [
       "<div>\n",
       "<style scoped>\n",
       "    .dataframe tbody tr th:only-of-type {\n",
       "        vertical-align: middle;\n",
       "    }\n",
       "\n",
       "    .dataframe tbody tr th {\n",
       "        vertical-align: top;\n",
       "    }\n",
       "\n",
       "    .dataframe thead th {\n",
       "        text-align: right;\n",
       "    }\n",
       "</style>\n",
       "<table border=\"1\" class=\"dataframe\">\n",
       "  <thead>\n",
       "    <tr style=\"text-align: right;\">\n",
       "      <th></th>\n",
       "      <th>STUDENTID</th>\n",
       "      <th>Block</th>\n",
       "      <th>AccessionNumber</th>\n",
       "      <th>ItemType</th>\n",
       "      <th>Observable</th>\n",
       "      <th>ExtendedInfo</th>\n",
       "      <th>EventTime</th>\n",
       "    </tr>\n",
       "  </thead>\n",
       "  <tbody>\n",
       "  </tbody>\n",
       "</table>\n",
       "</div>"
      ],
      "text/plain": [
       "Empty DataFrame\n",
       "Columns: [STUDENTID, Block, AccessionNumber, ItemType, Observable, ExtendedInfo, EventTime]\n",
       "Index: []"
      ]
     },
     "execution_count": 7,
     "metadata": {},
     "output_type": "execute_result"
    }
   ],
   "source": [
    "q1name = \"query\"\n",
    "stream_writer1 = (data_df_csv.writeStream.queryName(q1name).trigger(processingTime=\"5 seconds\").outputMode(\"append\").format(\"memory\"))\n",
    "query1 = stream_writer1.start()\n",
    "spark.sql(f\"SELECT * from {query1.name}\").toPandas() "
   ]
  },
  {
   "cell_type": "code",
   "execution_count": null,
   "id": "3f94cd2c",
   "metadata": {},
   "outputs": [],
   "source": []
  }
 ],
 "metadata": {
  "kernelspec": {
   "display_name": "DE",
   "language": "python",
   "name": "python3"
  },
  "language_info": {
   "codemirror_mode": {
    "name": "ipython",
    "version": 3
   },
   "file_extension": ".py",
   "mimetype": "text/x-python",
   "name": "python",
   "nbconvert_exporter": "python",
   "pygments_lexer": "ipython3",
   "version": "3.10.12"
  }
 },
 "nbformat": 4,
 "nbformat_minor": 5
}
